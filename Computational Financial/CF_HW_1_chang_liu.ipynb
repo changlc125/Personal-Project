{
 "cells": [
  {
   "cell_type": "markdown",
   "metadata": {},
   "source": [
    "## CSCI 365/765 HW 1"
   ]
  },
  {
   "cell_type": "markdown",
   "metadata": {},
   "source": [
    "### Instructor: Alex Pang, Spring 2021\n",
    "### Student Name: Chang Liu"
   ]
  },
  {
   "cell_type": "code",
   "execution_count": 1,
   "metadata": {},
   "outputs": [],
   "source": [
    "import pandas as pd\n",
    "import numpy as np\n",
    "import seaborn as sns\n",
    "import plotly.express as px\n",
    "\n",
    "from datetime import date\n",
    "from dateutil.relativedelta import relativedelta"
   ]
  },
  {
   "cell_type": "markdown",
   "metadata": {},
   "source": [
    "### Bond Calculator"
   ]
  },
  {
   "cell_type": "markdown",
   "metadata": {},
   "source": [
    "### In this homework, we will implement a Bond class and its corresponding calculation engine class"
   ]
  },
  {
   "cell_type": "markdown",
   "metadata": {},
   "source": [
    "**We will assume the pricing date is the same as the issue date of the bond, unless otherwise stated**"
   ]
  },
  {
   "cell_type": "code",
   "execution_count": 2,
   "metadata": {},
   "outputs": [],
   "source": [
    "from CF_HW_1_chang_liu import *"
   ]
  },
  {
   "cell_type": "code",
   "execution_count": 3,
   "metadata": {},
   "outputs": [],
   "source": [
    "pricing_date = date(2021, 1, 1)\n",
    "issue_date = date(2021, 1, 1)"
   ]
  },
  {
   "cell_type": "code",
   "execution_count": 4,
   "metadata": {},
   "outputs": [],
   "source": [
    "## Create an Bond Calculator for a pricing date\n",
    "engine = BondCalculator(pricing_date)"
   ]
  },
  {
   "cell_type": "code",
   "execution_count": 5,
   "metadata": {},
   "outputs": [],
   "source": [
    "# Repulicate Example 2 and Example from the Bond Math notebook\n",
    "# Create a 10Y annual paid bond with 5% coupon\n",
    "bond2 = Bond(issue_date, term=10, day_count = DayCount.DAYCOUNT_30360,\n",
    "            payment_freq = PaymentFrequency.ANNUAL,\n",
    "            coupon = 0.05)"
   ]
  },
  {
   "cell_type": "code",
   "execution_count": 6,
   "metadata": {},
   "outputs": [
    {
     "name": "stdout",
     "output_type": "stream",
     "text": [
      "Maturity Date:  2031-01-01\n",
      "Payment Dates: [datetime.date(2022, 1, 1), datetime.date(2023, 1, 1), datetime.date(2024, 1, 1), datetime.date(2025, 1, 1), datetime.date(2026, 1, 1), datetime.date(2027, 1, 1), datetime.date(2028, 1, 1), datetime.date(2029, 1, 1), datetime.date(2030, 1, 1), datetime.date(2031, 1, 1)]\n",
      "Coupon Payment: [5.0, 5.0, 5.0, 5.0, 5.0, 5.0, 5.0, 5.0, 5.0, 5.0]\n",
      "Payment time in year: [1, 2, 3, 4, 5, 6, 7, 8, 9, 10]\n"
     ]
    }
   ],
   "source": [
    "# check if its characteristic are right\n",
    "print(\"Maturity Date: \", bond2.maturity_date)\n",
    "print(\"Payment Dates:\", bond2.payment_dates)\n",
    "print(\"Coupon Payment:\", bond2.coupon_payment)\n",
    "print(\"Payment time in year:\", bond2.payment_times_in_year)"
   ]
  },
  {
   "cell_type": "code",
   "execution_count": 7,
   "metadata": {},
   "outputs": [
    {
     "name": "stdout",
     "output_type": "stream",
     "text": [
      "Maturity Date:  2023-01-01\n",
      "Payment Dates: [datetime.date(2021, 7, 1), datetime.date(2022, 1, 1), datetime.date(2022, 7, 1), datetime.date(2023, 1, 1)]\n",
      "Coupon Payment: [4.0, 4.0, 4.0, 4.0]\n",
      "Payment time in year: [0.5, 1.0, 1.5, 2.0]\n"
     ]
    }
   ],
   "source": [
    "# Now create a 2 year bond with 8% annual coupon that pay semi-annually\n",
    "bond3 = Bond(issue_date, term = 2, day_count =DayCount.DAYCOUNT_30360,\n",
    "            payment_freq = PaymentFrequency.SEMIANNUAL,\n",
    "            coupon = 0.08)\n",
    "\n",
    "# check if its characteristic are right\n",
    "print(\"Maturity Date: \", bond3.maturity_date)\n",
    "print(\"Payment Dates:\", bond3.payment_dates)\n",
    "print(\"Coupon Payment:\", bond3.coupon_payment)\n",
    "print(\"Payment time in year:\", bond3.payment_times_in_year)"
   ]
  },
  {
   "cell_type": "markdown",
   "metadata": {},
   "source": [
    "**Question 1: Price Bond2 and Bond3 with 6% yield by calling the calc_clean_price method**"
   ]
  },
  {
   "cell_type": "markdown",
   "metadata": {},
   "source": [
    "**Type your answer here**"
   ]
  },
  {
   "cell_type": "code",
   "execution_count": 8,
   "metadata": {},
   "outputs": [
    {
     "name": "stdout",
     "output_type": "stream",
     "text": [
      "92.64\n"
     ]
    }
   ],
   "source": [
    "# should be 92.64 and 103.72\n",
    "yld = 0.06\n",
    "px1=engine.calc_clean_price(bond2, yld)\n",
    "print(round(px1,2))\n",
    "#  = ...."
   ]
  },
  {
   "cell_type": "code",
   "execution_count": 9,
   "metadata": {},
   "outputs": [
    {
     "name": "stdout",
     "output_type": "stream",
     "text": [
      "103.72\n"
     ]
    }
   ],
   "source": [
    "px2=engine.calc_clean_price(bond3, yld)\n",
    "print(round(px2,2))"
   ]
  },
  {
   "cell_type": "code",
   "execution_count": null,
   "metadata": {},
   "outputs": [],
   "source": []
  },
  {
   "cell_type": "markdown",
   "metadata": {},
   "source": [
    "**Question 2: Calculate both bond2 and bond3's macaculay and modified duration at 6% yield**"
   ]
  },
  {
   "cell_type": "markdown",
   "metadata": {},
   "source": [
    "**Type your answer here**"
   ]
  },
  {
   "cell_type": "code",
   "execution_count": 10,
   "metadata": {},
   "outputs": [
    {
     "name": "stdout",
     "output_type": "stream",
     "text": [
      "bond2's macaculay duration is 8.02,modified duration is 7.57\n",
      "bond3's macaculay duration is 1.89,modified duration is 1.83\n"
     ]
    }
   ],
   "source": [
    "# example: print(engine.calc_macaulay_duration(bond2, yld))\n",
    "# example: print(engine.calc_macaulay_duration(bond3, yld))\n",
    "print('bond2\\'s macaculay duration is {},modified duration is {}'.format(round(engine.calc_macaulay_duration(bond2, yld),2),round(engine.calc_modified_duration(bond2, yld),2)))\n",
    "print('bond3\\'s macaculay duration is {},modified duration is {}'.format(round(engine.calc_macaulay_duration(bond3, yld),2),round(engine.calc_modified_duration(bond3, yld),2)))\n"
   ]
  },
  {
   "cell_type": "markdown",
   "metadata": {},
   "source": [
    "**Question 3: Calculate their new price when the yield is moved up by 1 bps**"
   ]
  },
  {
   "cell_type": "code",
   "execution_count": 11,
   "metadata": {},
   "outputs": [
    {
     "name": "stdout",
     "output_type": "stream",
     "text": [
      "bond2's new price is 92.569833\n",
      "bond3's new price is 103.698071\n"
     ]
    }
   ],
   "source": [
    "y1 = yld + 0.0001\n",
    "print('bond2\\'s new price is {}'.format(round(engine.calc_clean_price(bond2, y1),6)))\n",
    "print('bond3\\'s new price is {}'.format(round(engine.calc_clean_price(bond3, y1),6)))"
   ]
  },
  {
   "cell_type": "markdown",
   "metadata": {},
   "source": [
    "**Question 4: Use their modified duration to estimate the new price change after yield is moved up by 1 bps. Compare with your answer in Question 3**"
   ]
  },
  {
   "cell_type": "code",
   "execution_count": 12,
   "metadata": {},
   "outputs": [
    {
     "name": "stdout",
     "output_type": "stream",
     "text": [
      "bond2's new price by using modified duration is 92.569799\n",
      "bond3's new price by using modified duration is 103.698068\n"
     ]
    }
   ],
   "source": [
    "modified_duration2 = engine.calc_modified_duration(bond2,yld)\n",
    "modified_duration3 = engine.calc_modified_duration(bond3,yld)\n",
    "bond2_price =(px1-px1*(modified_duration2/10000)) \n",
    "bond3_price =(px2-px2*(modified_duration3/10000))\n",
    "print('bond2\\'s new price by using modified duration is {}'.format(round(bond2_price,6)))\n",
    "print('bond3\\'s new price by using modified duration is {}'.format(round(bond3_price,6)))"
   ]
  },
  {
   "cell_type": "code",
   "execution_count": 13,
   "metadata": {},
   "outputs": [],
   "source": [
    "# Create a 5Y bond with 5% paid semi annually\n",
    "bond4 = Bond(issue_date, term = 5, day_count=DayCount.DAYCOUNT_ACTUAL_360,\n",
    "             payment_freq = PaymentFrequency.SEMIANNUAL,\n",
    "             coupon = 0.05)\n",
    "# print(\"Coupon Payment:\", bond4.coupon_payment)"
   ]
  },
  {
   "cell_type": "markdown",
   "metadata": {},
   "source": [
    "**Question 5: Calculate the yield to maturity for this bond if it is priced at 103.71 using the calc_yield method**"
   ]
  },
  {
   "cell_type": "markdown",
   "metadata": {},
   "source": []
  },
  {
   "cell_type": "code",
   "execution_count": 14,
   "metadata": {},
   "outputs": [
    {
     "name": "stdout",
     "output_type": "stream",
     "text": [
      "4.17\n"
     ]
    }
   ],
   "source": [
    "# answer should be around 4.17\n",
    "print(round(engine.calc_yield(bond4, 103.71)*100,2))"
   ]
  },
  {
   "cell_type": "markdown",
   "metadata": {},
   "source": [
    "**Question 6: Calculate the accrual interest for both bond3 and bond4 if the settle date is March 10, 2021**"
   ]
  },
  {
   "cell_type": "code",
   "execution_count": 15,
   "metadata": {},
   "outputs": [
    {
     "name": "stdout",
     "output_type": "stream",
     "text": [
      "bond3's accrual interest:  1.533333\n",
      "bond4's accrual interest:  0.944444\n"
     ]
    }
   ],
   "source": [
    "settle_date = date(2021, 3, 10)\n",
    "print(\"bond3\\'s accrual interest: \",round(engine.calc_accrual_interest(bond3, settle_date),6))\n",
    "print(\"bond4\\'s accrual interest: \",round(engine.calc_accrual_interest(bond4, settle_date),6))\n"
   ]
  },
  {
   "cell_type": "markdown",
   "metadata": {},
   "source": [
    "**Question 7 is optional for undergraduate**"
   ]
  },
  {
   "cell_type": "markdown",
   "metadata": {},
   "source": [
    "**Question 7: Calculate the Convexity of bond3 and bond4**"
   ]
  },
  {
   "cell_type": "markdown",
   "metadata": {},
   "source": [
    "**Type your answer here**"
   ]
  },
  {
   "cell_type": "code",
   "execution_count": 16,
   "metadata": {},
   "outputs": [
    {
     "name": "stdout",
     "output_type": "stream",
     "text": [
      "bond3's Convexity:  3.6712735496509734\n",
      "bond4's Convexity:  21.44969008699018\n"
     ]
    }
   ],
   "source": [
    "print(\"bond3\\'s Convexity: \",engine.calc_convexity(bond3, bond3.coupon))\n",
    "print(\"bond4\\'s Convexity: \",engine.calc_convexity(bond4, bond4.coupon))"
   ]
  },
  {
   "cell_type": "code",
   "execution_count": 17,
   "metadata": {},
   "outputs": [],
   "source": [
    "# for testing DayCount.DAYCOUNT_ACTUAL_ACTUAL,\n",
    "# bond9 = Bond(issue_date, term = 2, day_count =DayCount.DAYCOUNT_ACTUAL_ACTUAL,\n",
    "#             payment_freq = PaymentFrequency.SEMIANNUAL,\n",
    "#             coupon = 0.08)\n",
    "# print(\"bond9\\'s accrual interest: \",engine.calc_accrual_interest(bond9, settle_date))"
   ]
  },
  {
   "cell_type": "code",
   "execution_count": null,
   "metadata": {},
   "outputs": [],
   "source": []
  },
  {
   "cell_type": "code",
   "execution_count": null,
   "metadata": {},
   "outputs": [],
   "source": []
  },
  {
   "cell_type": "code",
   "execution_count": null,
   "metadata": {},
   "outputs": [],
   "source": []
  },
  {
   "cell_type": "code",
   "execution_count": null,
   "metadata": {},
   "outputs": [],
   "source": []
  }
 ],
 "metadata": {
  "kernelspec": {
   "display_name": "Python 3",
   "language": "python",
   "name": "python3"
  },
  "language_info": {
   "codemirror_mode": {
    "name": "ipython",
    "version": 3
   },
   "file_extension": ".py",
   "mimetype": "text/x-python",
   "name": "python",
   "nbconvert_exporter": "python",
   "pygments_lexer": "ipython3",
   "version": "3.8.5"
  }
 },
 "nbformat": 4,
 "nbformat_minor": 2
}
