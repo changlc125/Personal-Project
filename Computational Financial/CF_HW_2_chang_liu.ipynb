{
 "cells": [
  {
   "cell_type": "markdown",
   "metadata": {},
   "source": [
    "## CSCI 365/765 HW 2"
   ]
  },
  {
   "cell_type": "markdown",
   "metadata": {},
   "source": [
    "### Instructor: Alex Pang, Spring 2021\n",
    "### Student Name:"
   ]
  },
  {
   "cell_type": "code",
   "execution_count": 1,
   "metadata": {},
   "outputs": [],
   "source": [
    "import pandas as pd\n",
    "import numpy as np\n",
    "import matplotlib.pyplot as plt\n",
    "from datetime import date\n",
    "from math import log, exp, sqrt, pow"
   ]
  },
  {
   "cell_type": "markdown",
   "metadata": {},
   "source": [
    "### Option Calculator"
   ]
  },
  {
   "cell_type": "markdown",
   "metadata": {},
   "source": [
    "### In this homework, we will implement an option class and its corresponding calculation pricer class"
   ]
  },
  {
   "cell_type": "code",
   "execution_count": 2,
   "metadata": {},
   "outputs": [],
   "source": [
    "#from CF_HW_2_first_last import *\n",
    "from CF_HW_2_chang_liu import *"
   ]
  },
  {
   "cell_type": "code",
   "execution_count": 3,
   "metadata": {},
   "outputs": [],
   "source": [
    "# example\n",
    "pricing_date = date(2021, 1, 1)\n",
    "risk_free_rate = 0.04\n",
    "pricer = OptionPricer(pricing_date, risk_free_rate)"
   ]
  },
  {
   "cell_type": "markdown",
   "metadata": {},
   "source": [
    "### Question 1 (Problem 13.5 of the textbook modified)"
   ]
  },
  {
   "cell_type": "markdown",
   "metadata": {},
   "source": [
    "### A stock price is currently 100. Over each of the next two six-month periods it is expected to go up by 10% (i.e. by a multiple factor of u = 1.1) or down by a multiple factor of d where d = 1/u. The risk-free interest rate is 8% per annum with continuous compounding. What is the value of a one-year European call option with a strike price of 100 using Binomial Model? "
   ]
  },
  {
   "cell_type": "markdown",
   "metadata": {},
   "source": [
    "**Type your code below**"
   ]
  },
  {
   "cell_type": "code",
   "execution_count": 4,
   "metadata": {},
   "outputs": [
    {
     "name": "stdout",
     "output_type": "stream",
     "text": [
      "Call price is 9.228371548345102\n"
     ]
    }
   ],
   "source": [
    "T = 1.0\n",
    "num_of_period = 2\n",
    "dt = T / num_of_period\n",
    "r = 0.08\n",
    "u = 1.1\n",
    "d = 1/u\n",
    "sigma = log(u)/sqrt(dt)\n",
    "S = 100\n",
    "K = 100\n",
    "# mu and symbol does not matter, just assume 10%\n",
    "mu = 0.1\n",
    "symbol = 'problem13.5'\n",
    "pricer = OptionPricer(pricing_date, r)\n",
    "stock = Stock(symbol,S,sigma,mu)\n",
    "option = Option(Option.Type.CALL,Option.Style.EUROPEAN,stock,T,K)\n",
    "call = EuropeanCallOption(stock,T,K)\n",
    "call_price = pricer.calc_binomial_model_price(call,num_of_period)\n",
    "print('Call price is',call_price)\n"
   ]
  },
  {
   "cell_type": "markdown",
   "metadata": {},
   "source": [
    "### Question 2. Using the same assumption from Question 1. Calculate the European Put option with the same strike and expiry using Binomial Tree. Calculate also implied put price from the call price using Put-Call parity and the implied call price from the put price. Does Put-Call Parity hold for Binomial trees?"
   ]
  },
  {
   "cell_type": "markdown",
   "metadata": {},
   "source": [
    "**Type your code and answer below**"
   ]
  },
  {
   "cell_type": "code",
   "execution_count": 5,
   "metadata": {},
   "outputs": [
    {
     "name": "stdout",
     "output_type": "stream",
     "text": [
      "Put price with the same strike and expiry is  1.5400061870086883\n",
      "corresponding call price is 1.5400061870086859 when put price is 1.5400061870086883\n",
      "corresponding put  price is 9.228371548345109 when call price is 9.228371548345102:\n",
      "Above results imply that Put-Call Parity holds for Binomial trees \n"
     ]
    }
   ],
   "source": [
    "option1 = Option(Option.Type.PUT,Option.Style.EUROPEAN,stock,T,K)\n",
    "put = EuropeanPutOption(stock,T,K)\n",
    "put_price = pricer.calc_binomial_model_price(put,num_of_period)\n",
    "print('Put price with the same strike and expiry is ',put_price)\n",
    "\n",
    "corresponding_option_price1 = pricer.calc_parity_price(call, call_price)\n",
    "print(\"corresponding call price is {} when put price is {}\".format(corresponding_option_price1,put_price))\n",
    "\n",
    "corresponding_option_price2 = pricer.calc_parity_price(put, put_price)\n",
    "print(\"corresponding put  price is {} when call price is {}:\".format(corresponding_option_price2,call_price))\n",
    "\n",
    "print(\"Above results imply that Put-Call Parity holds for Binomial trees \")\n",
    "# c=9.6104+100*exp(-0.08)\n",
    "# p=1.9203+100\n",
    "# c=call_price+100*exp(-0.08)\n",
    "# p=put_price+100\n",
    "# print(c)\n",
    "# print(p)"
   ]
  },
  {
   "cell_type": "markdown",
   "metadata": {},
   "source": [
    "### Question 3  (Problem 13.17 of the textbook) "
   ]
  },
  {
   "cell_type": "markdown",
   "metadata": {},
   "source": [
    "### A stock index is currently 1,500. Its volatility is 18%. The risk-free rate is 4% per annum (continuously compounded) for all maturities and the dividend yield on the index is 2.5%. What is the value a 12-month American put option with a strike price of 1,480 given by a two-step binomial tree."
   ]
  },
  {
   "cell_type": "markdown",
   "metadata": {},
   "source": [
    "**Type your answer below**"
   ]
  },
  {
   "cell_type": "code",
   "execution_count": 6,
   "metadata": {},
   "outputs": [
    {
     "name": "stdout",
     "output_type": "stream",
     "text": [
      "put option is 78.4137177695263\n"
     ]
    }
   ],
   "source": [
    "stock_price3=1500\n",
    "sigma3=0.18\n",
    "r3=0.04\n",
    "q3=0.025\n",
    "K3=1480\n",
    "T3=1\n",
    "num_of_period3 = 2\n",
    "dt3 = T3 / num_of_period3\n",
    "symbol3 = 'problem13.17'\n",
    "pricer3 = OptionPricer(pricing_date, r3)\n",
    "stock3 = Stock(symbol3,stock_price3,sigma3,mu,q3)\n",
    "option3 = Option(Option.Type.PUT,Option.Style.AMERICAN,stock3,T3,K3)\n",
    "put3 = AmericanPutOption(stock3,T3,K3)\n",
    "put_price3 = pricer3.calc_binomial_model_price(put3,num_of_period3)\n",
    "print(\"put option is\",put_price3)"
   ]
  },
  {
   "cell_type": "markdown",
   "metadata": {},
   "source": [
    "### Question 4 (Problem 13.18 of the textbook)"
   ]
  },
  {
   "cell_type": "markdown",
   "metadata": {},
   "source": [
    "### The futures price of a commodity is 90.  Use a three-step Binomial tree to value (a) a nine-month American call option with strike price \\$93 and (b) a nine-month American put option with strike price 93. The volatility is 28% and the risk-free rate (all maturities) is 3% with continuous compounding"
   ]
  },
  {
   "cell_type": "markdown",
   "metadata": {},
   "source": [
    "**Type your code below**"
   ]
  },
  {
   "cell_type": "code",
   "execution_count": 7,
   "metadata": {},
   "outputs": [
    {
     "name": "stdout",
     "output_type": "stream",
     "text": [
      "(a) call price is 8.911449522816081\n",
      "(b) put  price is 10.019071364502532\n"
     ]
    }
   ],
   "source": [
    "commodity_price4=90\n",
    "sigma4=0.28\n",
    "r4=0.03\n",
    "call_K4=93\n",
    "put_K4=93\n",
    "T4=9/12\n",
    "num_of_period4 = 3\n",
    "dt4 = T4 / num_of_period4\n",
    "symbol4 = 'prob13.18'\n",
    "\n",
    "pricer4 = OptionPricer(pricing_date, r4)\n",
    "stock4 = Stock(symbol4,commodity_price4,sigma4,mu)\n",
    "option4 = Option(Option.Type.CALL,Option.Style.AMERICAN,stock4,T4,call_K4)\n",
    "call4 = AmericanCallOption(stock4,T4,call_K4)\n",
    "call_price4 = pricer4.calc_binomial_model_price(call4,num_of_period4)\n",
    "print(\"(a) call price is\", call_price4)\n",
    "option4_1 = Option(Option.Type.PUT,Option.Style.AMERICAN,stock4,T4,put_K4)\n",
    "put4 = AmericanPutOption(stock4,T4,put_K4)\n",
    "put_price4 = pricer4.calc_binomial_model_price(put4,num_of_period4)\n",
    "print(\"(b) put  price is\", put_price4)\n"
   ]
  },
  {
   "cell_type": "markdown",
   "metadata": {},
   "source": [
    "### Question 5 (Problem 15.4 of the textbook)"
   ]
  },
  {
   "cell_type": "markdown",
   "metadata": {},
   "source": [
    "### Calculate the price of a three-month European put option on a non-dividend-paying stock with a strike price of 50 when the current stock price is 50, the risk-free interest rate is 10% per annum, and the volatility is 30% per annum using Black-Scholes Model. "
   ]
  },
  {
   "cell_type": "code",
   "execution_count": 8,
   "metadata": {},
   "outputs": [
    {
     "name": "stdout",
     "output_type": "stream",
     "text": [
      "put price is 2.3759406675006467\n"
     ]
    }
   ],
   "source": [
    "stock_price5=50\n",
    "sigma5=0.3\n",
    "r5=0.1\n",
    "K5=50\n",
    "T5=3/12\n",
    "symbol5 = 'prob15.4'\n",
    "stock5 = Stock(symbol5,stock_price5,sigma5,mu)\n",
    "option5 = Option(Option.Type.PUT,Option.Style.EUROPEAN,stock5,T5,K5)\n",
    "pricer5 = OptionPricer(pricing_date, r5)\n",
    "# put5 = EuropeanPutOption(stock5,T5,K5)\n",
    "put_price5 = pricer5.calc_black_scholes_price(option5)\n",
    "print(\"put price is\",put_price5)\n"
   ]
  },
  {
   "cell_type": "markdown",
   "metadata": {},
   "source": [
    "### Question 6. Calculate the same call and put from Question 4, but assume European style and use Black-Scholes Model. Calculate also the European Call using the same assumptions as the put in Q5"
   ]
  },
  {
   "cell_type": "code",
   "execution_count": 9,
   "metadata": {},
   "outputs": [
    {
     "name": "stdout",
     "output_type": "stream",
     "text": [
      "By using Black-Scholes Model，call price in Q4 is 8.27247167207019, put price in Q4 is 9.20333673105047\n",
      "call price in Q5 by using Black-Scholes Model is 3.610445066084015\n"
     ]
    }
   ],
   "source": [
    "# Q4\n",
    "symbol6 = 'prob6'\n",
    "commodity_price6_1=90\n",
    "sigma6_1=0.28\n",
    "r6_1=0.03\n",
    "call_K6_1=93\n",
    "put_K6_1=93\n",
    "T6_1=9/12\n",
    "num_of_period6_1 = 3\n",
    "dt6_1 = T6_1 / num_of_period6_1\n",
    "stock6_1 = Stock(symbol6,commodity_price6_1,sigma6_1,mu)\n",
    "option6_1 = Option(Option.Type.CALL,Option.Style.EUROPEAN,stock6_1,T6_1,call_K6_1)\n",
    "option6_2 = Option(Option.Type.PUT,Option.Style.EUROPEAN,stock6_1,T6_1,put_K6_1)\n",
    "pricer6_1 = OptionPricer(pricing_date, r6_1)\n",
    "call_price6_1 = pricer6_1.calc_black_scholes_price(option6_1)\n",
    "put_price6_1 =  pricer6_1.calc_black_scholes_price(option6_2)\n",
    "print('By using Black-Scholes Model，call price in Q4 is {}, put price in Q4 is {}'.format(call_price6_1,put_price6_1))\n",
    "\n",
    "# Q5\n",
    "stock_price6_3=50\n",
    "sigma6_3=0.3\n",
    "r6_3=0.1\n",
    "K6_3=50\n",
    "T6_3=3/12\n",
    "stock6_3 = Stock(symbol6,stock_price6_3,sigma6_3,mu)\n",
    "option6_3 = Option(Option.Type.CALL,Option.Style.EUROPEAN,stock6_3,T6_3,K6_3)\n",
    "pricer6_3 = OptionPricer(pricing_date, r6_3)\n",
    "# put5 = EuropeanPutOption(stock5,T5,K5)\n",
    "call_price6_3 = pricer6_3.calc_black_scholes_price(option6_3)\n",
    "print(\"call price in Q5 by using Black-Scholes Model is\",call_price6_3)"
   ]
  },
  {
   "cell_type": "markdown",
   "metadata": {},
   "source": [
    "### Question 7 (Problem 19.3 of the textbook)"
   ]
  },
  {
   "cell_type": "markdown",
   "metadata": {},
   "source": [
    "### Calculate the delta of an at-the-money six-month European call option on a non-dividend-paying stock when the risk-free interest rate is 10% per annum with the spot price being 100 and the stock price volatility is 25% per annum.¶"
   ]
  },
  {
   "cell_type": "code",
   "execution_count": 10,
   "metadata": {},
   "outputs": [
    {
     "name": "stdout",
     "output_type": "stream",
     "text": [
      "Delta is 0.6447672796293542\n"
     ]
    }
   ],
   "source": [
    "r7=0.1\n",
    "sigma7=0.25\n",
    "# the stock price does not matter,because in formula,log(S0/K),S0 and K will cancel each other\n",
    "#  d1 = (log(S0/K)+(r-q+pow(sigma,2)/2)*T)/(sigma * sqrt(T))\n",
    "stock_price7 = 100\n",
    "K7 = stock_price7\n",
    "T7 = 6/12\n",
    "symbol7 = 'Problem 19.3'\n",
    "stock7 = Stock(symbol6,stock_price7,sigma7,mu)\n",
    "option7 = Option(Option.Type.CALL,Option.Style.EUROPEAN,stock7,T7,K7)\n",
    "pricer7 = OptionPricer(pricing_date, r7)\n",
    "delta = pricer7.calc_delta(option7)\n",
    "print(\"Delta is\",delta)"
   ]
  },
  {
   "cell_type": "markdown",
   "metadata": {},
   "source": [
    "### Question 8. Calculate the gamma, theta, vega and rho of the same European call option in Question 7"
   ]
  },
  {
   "cell_type": "code",
   "execution_count": 11,
   "metadata": {},
   "outputs": [
    {
     "name": "stdout",
     "output_type": "stream",
     "text": [
      "Gamma is 0.021064902379923867, Theta is -12.072231283969437\n",
      "Vega is 26.331127974904835, Rho is 27.44724645121614\n"
     ]
    }
   ],
   "source": [
    "gamma = pricer7.calc_gamma(option7)\n",
    "theta = pricer7.calc_theta(option7)\n",
    "vega = pricer7.calc_vega(option7)\n",
    "rho = pricer7.calc_rho(option7)\n",
    "print('Gamma is {}, Theta is {}'.format(gamma,theta))\n",
    "print('Vega is {}, Rho is {}'.format(vega,rho))"
   ]
  },
  {
   "cell_type": "markdown",
   "metadata": {},
   "source": [
    "### Question 9: (Optional for undergraduate) Plot the graph of Delta, Gamma, Theta, Vega and Rho for the Call Option described in Question 7"
   ]
  },
  {
   "cell_type": "code",
   "execution_count": 12,
   "metadata": {},
   "outputs": [
    {
     "data": {
      "image/png": "[encoded data removed]",
      "text/plain": [
       "<Figure size 432x288 with 1 Axes>"
      ]
     },
     "metadata": {
      "needs_background": "light"
     },
     "output_type": "display_data"
    },
    {
     "data": {
      "image/png": "[encoded data removed]",
      "text/plain": [
       "<Figure size 432x288 with 1 Axes>"
      ]
     },
     "metadata": {
      "needs_background": "light"
     },
     "output_type": "display_data"
    },
    {
     "data": {
      "image/png": "[encoded data removed]",
      "text/plain": [
       "<Figure size 432x288 with 1 Axes>"
      ]
     },
     "metadata": {
      "needs_background": "light"
     },
     "output_type": "display_data"
    },
    {
     "data": {
      "image/png": "[encoded data removed]",
      "text/plain": [
       "<Figure size 432x288 with 1 Axes>"
      ]
     },
     "metadata": {
      "needs_background": "light"
     },
     "output_type": "display_data"
    },
    {
     "data": {
      "image/png": "[encoded data removed]",
      "text/plain": [
       "<Figure size 432x288 with 1 Axes>"
      ]
     },
     "metadata": {
      "needs_background": "light"
     },
     "output_type": "display_data"
    }
   ],
   "source": [
    "# Create a list in a range of 0-100\n",
    "Stock_price_x_9 =[s for s in range(60,140)]\n",
    "# print(Stock_price_x_9)\n",
    "stock_list9 = []\n",
    "option_list9= []\n",
    "pricer_list9 = []\n",
    "delta_y_list9 = []\n",
    "gamma_y_list9 = []\n",
    "theta_y_list9 = []\n",
    "vega_y_list9 = []\n",
    "rho_y_list9 = []\n",
    "for i in Stock_price_x_9:\n",
    "    stock9 = Stock(symbol6,i,sigma7,mu)\n",
    "    stock_list9.append(stock9)\n",
    "    option9 = Option(Option.Type.CALL,Option.Style.EUROPEAN,stock9,T7,K7)\n",
    "    option_list9.append(option9) \n",
    "    pricer9 = OptionPricer(pricing_date, r7)\n",
    "    pricer_list9.append(pricer9) \n",
    "    delta_y_list9.append(pricer9.calc_delta(option9)) \n",
    "    gamma_y_list9.append(pricer9.calc_gamma(option9)) \n",
    "    theta_y_list9.append(pricer9.calc_theta(option9)) \n",
    "    vega_y_list9.append(pricer9.calc_vega(option9)) \n",
    "    rho_y_list9.append(pricer9.calc_rho(option9))\n",
    "plt.plot(Stock_price_x_9,delta_y_list9,color='green',linewidth = 3)\n",
    "plt.xlabel(\"Stock price\")\n",
    "plt.ylabel(\"delta\")\n",
    "plt.annotate('ATM', xy=(100, delta_y_list9[100-60-1]), xytext=(103, delta_y_list9[100-70]),\n",
    "            arrowprops=dict(facecolor='black', shrink=0.05),\n",
    "            )\n",
    "plt.show()\n",
    "\n",
    "plt.plot(Stock_price_x_9,gamma_y_list9,color='green',linewidth = 3)\n",
    "plt.xlabel(\"Stock price\")\n",
    "plt.ylabel(\"gamma\")\n",
    "plt.annotate('ATM', xy=(100, gamma_y_list9[100-60-1]), xytext=(103, gamma_y_list9[100-70]),\n",
    "            arrowprops=dict(facecolor='black', shrink=0.05),\n",
    "            )\n",
    "plt.show()\n",
    "\n",
    "plt.plot(Stock_price_x_9,theta_y_list9,color='green',linewidth = 3)\n",
    "plt.xlabel(\"Stock price\")\n",
    "plt.ylabel(\"theta\")\n",
    "plt.annotate('ATM', xy=(100, theta_y_list9[100-60-1]), xytext=(103, theta_y_list9[100-70]),\n",
    "            arrowprops=dict(facecolor='black', shrink=0.05),\n",
    "            )\n",
    "plt.show()\n",
    "\n",
    "plt.plot(Stock_price_x_9,vega_y_list9,color='green',linewidth = 3)\n",
    "plt.xlabel(\"Stock price\")\n",
    "plt.ylabel(\"vega\")\n",
    "plt.annotate('ATM', xy=(100, vega_y_list9[100-60-1]), xytext=(103, vega_y_list9[100-80]),\n",
    "            arrowprops=dict(facecolor='black', shrink=0.05),\n",
    "            )\n",
    "plt.show()\n",
    "\n",
    "plt.plot(Stock_price_x_9,rho_y_list9,color='green',linewidth = 3)\n",
    "plt.xlabel(\"Stock price\")\n",
    "plt.ylabel(\"rho\")\n",
    "plt.annotate('ATM', xy=(100, rho_y_list9[100-60-1]), xytext=(103, rho_y_list9[100-70]),\n",
    "            arrowprops=dict(facecolor='black', shrink=0.05),\n",
    "            )\n",
    "plt.show()"
   ]
  },
  {
   "cell_type": "code",
   "execution_count": null,
   "metadata": {},
   "outputs": [],
   "source": []
  },
  {
   "cell_type": "code",
   "execution_count": null,
   "metadata": {},
   "outputs": [],
   "source": []
  },
  {
   "cell_type": "code",
   "execution_count": null,
   "metadata": {},
   "outputs": [],
   "source": []
  },
  {
   "cell_type": "code",
   "execution_count": null,
   "metadata": {},
   "outputs": [],
   "source": []
  },
  {
   "cell_type": "code",
   "execution_count": null,
   "metadata": {},
   "outputs": [],
   "source": []
  },
  {
   "cell_type": "code",
   "execution_count": null,
   "metadata": {},
   "outputs": [],
   "source": []
  },
  {
   "cell_type": "code",
   "execution_count": null,
   "metadata": {},
   "outputs": [],
   "source": []
  },
  {
   "cell_type": "code",
   "execution_count": null,
   "metadata": {},
   "outputs": [],
   "source": []
  }
 ],
 "metadata": {
  "kernelspec": {
   "display_name": "Python 3",
   "language": "python",
   "name": "python3"
  },
  "language_info": {
   "codemirror_mode": {
    "name": "ipython",
    "version": 3
   },
   "file_extension": ".py",
   "mimetype": "text/x-python",
   "name": "python",
   "nbconvert_exporter": "python",
   "pygments_lexer": "ipython3",
   "version": "3.8.5"
  }
 },
 "nbformat": 4,
 "nbformat_minor": 2
}
