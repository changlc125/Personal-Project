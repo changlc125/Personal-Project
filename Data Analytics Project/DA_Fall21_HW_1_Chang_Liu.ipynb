{
 "cells": [
  {
   "cell_type": "markdown",
   "metadata": {},
   "source": [
    "## DA_Fall21_HW_1 Due at Mid-night 10/19/2021"
   ]
  },
  {
   "cell_type": "markdown",
   "metadata": {},
   "source": [
    "### This homework will cover the following skills set\n",
    "* Using sql \n",
    "* Checking for null values and outliers\n",
    "* Calculate simple statistics using both SQL and Pandas \n",
    "* Calculate skew and correlation\n",
    "* Basic Data Visualization\n",
    "* How to fix missing values"
   ]
  },
  {
   "cell_type": "markdown",
   "metadata": {},
   "source": [
    "## Late Policy: Take off 50% after one day, 80% after two days"
   ]
  },
  {
   "cell_type": "markdown",
   "metadata": {},
   "source": [
    "**Make sure you have pandasql installed. If not, make sure you run the code in the following cell**"
   ]
  },
  {
   "cell_type": "code",
   "execution_count": 1,
   "metadata": {},
   "outputs": [],
   "source": [
    "import os\n",
    "try:\n",
    "    import pandasql as ps\n",
    "except:\n",
    "    print(\"Failed in import pandasql\")\n",
    "    os.system(\"pip install pandasql\")"
   ]
  },
  {
   "cell_type": "markdown",
   "metadata": {},
   "source": [
    "**Import all standard libaries**"
   ]
  },
  {
   "cell_type": "code",
   "execution_count": 2,
   "metadata": {},
   "outputs": [],
   "source": [
    "import pandas as pd\n",
    "import pandasql as ps\n",
    "import numpy as np\n",
    "import matplotlib.pyplot as plt\n",
    "import seaborn as sns"
   ]
  },
  {
   "cell_type": "markdown",
   "metadata": {},
   "source": [
    "## Loading Car Crashes dataset ##"
   ]
  },
  {
   "cell_type": "code",
   "execution_count": 3,
   "metadata": {},
   "outputs": [
    {
     "name": "stdout",
     "output_type": "stream",
     "text": [
      "(54, 10)\n"
     ]
    },
    {
     "data": {
      "text/html": [
       "<div>\n",
       "<style scoped>\n",
       "    .dataframe tbody tr th:only-of-type {\n",
       "        vertical-align: middle;\n",
       "    }\n",
       "\n",
       "    .dataframe tbody tr th {\n",
       "        vertical-align: top;\n",
       "    }\n",
       "\n",
       "    .dataframe thead th {\n",
       "        text-align: right;\n",
       "    }\n",
       "</style>\n",
       "<table border=\"1\" class=\"dataframe\">\n",
       "  <thead>\n",
       "    <tr style=\"text-align: right;\">\n",
       "      <th></th>\n",
       "      <th>accidents</th>\n",
       "      <th>speeding</th>\n",
       "      <th>alcohol</th>\n",
       "      <th>not_distracted</th>\n",
       "      <th>no_previous</th>\n",
       "      <th>ins_premium</th>\n",
       "      <th>ins_losses</th>\n",
       "      <th>state</th>\n",
       "      <th>region</th>\n",
       "      <th>division</th>\n",
       "    </tr>\n",
       "  </thead>\n",
       "  <tbody>\n",
       "    <tr>\n",
       "      <th>0</th>\n",
       "      <td>18.8</td>\n",
       "      <td>7.332</td>\n",
       "      <td>5.640</td>\n",
       "      <td>18.048</td>\n",
       "      <td>15.040</td>\n",
       "      <td>784.55</td>\n",
       "      <td>145.08</td>\n",
       "      <td>AL</td>\n",
       "      <td>South</td>\n",
       "      <td>East South Central</td>\n",
       "    </tr>\n",
       "    <tr>\n",
       "      <th>1</th>\n",
       "      <td>18.1</td>\n",
       "      <td>7.421</td>\n",
       "      <td>4.525</td>\n",
       "      <td>16.290</td>\n",
       "      <td>17.014</td>\n",
       "      <td>1053.48</td>\n",
       "      <td>133.93</td>\n",
       "      <td>AK</td>\n",
       "      <td>West</td>\n",
       "      <td>Pacific</td>\n",
       "    </tr>\n",
       "    <tr>\n",
       "      <th>2</th>\n",
       "      <td>18.6</td>\n",
       "      <td>6.510</td>\n",
       "      <td>5.208</td>\n",
       "      <td>15.624</td>\n",
       "      <td>17.856</td>\n",
       "      <td>899.47</td>\n",
       "      <td>110.35</td>\n",
       "      <td>AZ</td>\n",
       "      <td>West</td>\n",
       "      <td>Mountain</td>\n",
       "    </tr>\n",
       "    <tr>\n",
       "      <th>3</th>\n",
       "      <td>22.4</td>\n",
       "      <td>4.032</td>\n",
       "      <td>5.824</td>\n",
       "      <td>21.056</td>\n",
       "      <td>21.280</td>\n",
       "      <td>827.34</td>\n",
       "      <td>142.39</td>\n",
       "      <td>AR</td>\n",
       "      <td>South</td>\n",
       "      <td>West South Central</td>\n",
       "    </tr>\n",
       "    <tr>\n",
       "      <th>4</th>\n",
       "      <td>12.0</td>\n",
       "      <td>4.200</td>\n",
       "      <td>3.360</td>\n",
       "      <td>10.920</td>\n",
       "      <td>10.680</td>\n",
       "      <td>878.41</td>\n",
       "      <td>165.63</td>\n",
       "      <td>CA</td>\n",
       "      <td>West</td>\n",
       "      <td>Pacific</td>\n",
       "    </tr>\n",
       "  </tbody>\n",
       "</table>\n",
       "</div>"
      ],
      "text/plain": [
       "   accidents  speeding  alcohol  not_distracted  no_previous  ins_premium  \\\n",
       "0       18.8     7.332    5.640          18.048       15.040       784.55   \n",
       "1       18.1     7.421    4.525          16.290       17.014      1053.48   \n",
       "2       18.6     6.510    5.208          15.624       17.856       899.47   \n",
       "3       22.4     4.032    5.824          21.056       21.280       827.34   \n",
       "4       12.0     4.200    3.360          10.920       10.680       878.41   \n",
       "\n",
       "   ins_losses state region            division  \n",
       "0      145.08    AL  South  East South Central  \n",
       "1      133.93    AK   West             Pacific  \n",
       "2      110.35    AZ   West            Mountain  \n",
       "3      142.39    AR  South  West South Central  \n",
       "4      165.63    CA   West             Pacific  "
      ]
     },
     "execution_count": 3,
     "metadata": {},
     "output_type": "execute_result"
    }
   ],
   "source": [
    "crash = pd.read_csv(\"car_crashes2.csv\")\n",
    "print(crash.shape)\n",
    "crash.head()"
   ]
  },
  {
   "cell_type": "markdown",
   "metadata": {},
   "source": [
    "* accidents is the total number of crashes for each state\n",
    "* speeding is the average speeding in each state"
   ]
  },
  {
   "cell_type": "code",
   "execution_count": 4,
   "metadata": {},
   "outputs": [
    {
     "data": {
      "text/html": [
       "<div>\n",
       "<style scoped>\n",
       "    .dataframe tbody tr th:only-of-type {\n",
       "        vertical-align: middle;\n",
       "    }\n",
       "\n",
       "    .dataframe tbody tr th {\n",
       "        vertical-align: top;\n",
       "    }\n",
       "\n",
       "    .dataframe thead th {\n",
       "        text-align: right;\n",
       "    }\n",
       "</style>\n",
       "<table border=\"1\" class=\"dataframe\">\n",
       "  <thead>\n",
       "    <tr style=\"text-align: right;\">\n",
       "      <th></th>\n",
       "      <th>accidents</th>\n",
       "      <th>speeding</th>\n",
       "      <th>alcohol</th>\n",
       "      <th>not_distracted</th>\n",
       "      <th>no_previous</th>\n",
       "      <th>ins_premium</th>\n",
       "      <th>ins_losses</th>\n",
       "    </tr>\n",
       "  </thead>\n",
       "  <tbody>\n",
       "    <tr>\n",
       "      <th>count</th>\n",
       "      <td>54.000000</td>\n",
       "      <td>53.000000</td>\n",
       "      <td>54.000000</td>\n",
       "      <td>54.000000</td>\n",
       "      <td>54.000000</td>\n",
       "      <td>53.000000</td>\n",
       "      <td>54.000000</td>\n",
       "    </tr>\n",
       "    <tr>\n",
       "      <th>mean</th>\n",
       "      <td>15.668519</td>\n",
       "      <td>5.028755</td>\n",
       "      <td>5.506778</td>\n",
       "      <td>13.545407</td>\n",
       "      <td>13.931500</td>\n",
       "      <td>908.318113</td>\n",
       "      <td>133.967407</td>\n",
       "    </tr>\n",
       "    <tr>\n",
       "      <th>std</th>\n",
       "      <td>4.087386</td>\n",
       "      <td>2.000479</td>\n",
       "      <td>5.157681</td>\n",
       "      <td>4.463259</td>\n",
       "      <td>3.730217</td>\n",
       "      <td>232.237787</td>\n",
       "      <td>24.703393</td>\n",
       "    </tr>\n",
       "    <tr>\n",
       "      <th>min</th>\n",
       "      <td>5.900000</td>\n",
       "      <td>1.792000</td>\n",
       "      <td>1.593000</td>\n",
       "      <td>1.760000</td>\n",
       "      <td>5.900000</td>\n",
       "      <td>641.960000</td>\n",
       "      <td>82.750000</td>\n",
       "    </tr>\n",
       "    <tr>\n",
       "      <th>25%</th>\n",
       "      <td>12.725000</td>\n",
       "      <td>3.774000</td>\n",
       "      <td>3.891000</td>\n",
       "      <td>10.345000</td>\n",
       "      <td>11.262000</td>\n",
       "      <td>768.950000</td>\n",
       "      <td>112.332500</td>\n",
       "    </tr>\n",
       "    <tr>\n",
       "      <th>50%</th>\n",
       "      <td>15.450000</td>\n",
       "      <td>4.608000</td>\n",
       "      <td>4.542000</td>\n",
       "      <td>13.816000</td>\n",
       "      <td>13.717000</td>\n",
       "      <td>861.180000</td>\n",
       "      <td>135.840000</td>\n",
       "    </tr>\n",
       "    <tr>\n",
       "      <th>75%</th>\n",
       "      <td>18.350000</td>\n",
       "      <td>6.510000</td>\n",
       "      <td>5.622000</td>\n",
       "      <td>16.215000</td>\n",
       "      <td>16.579000</td>\n",
       "      <td>1011.140000</td>\n",
       "      <td>152.065000</td>\n",
       "    </tr>\n",
       "    <tr>\n",
       "      <th>max</th>\n",
       "      <td>23.900000</td>\n",
       "      <td>9.450000</td>\n",
       "      <td>40.642000</td>\n",
       "      <td>23.661000</td>\n",
       "      <td>21.280000</td>\n",
       "      <td>2000.030000</td>\n",
       "      <td>194.780000</td>\n",
       "    </tr>\n",
       "  </tbody>\n",
       "</table>\n",
       "</div>"
      ],
      "text/plain": [
       "       accidents   speeding    alcohol  not_distracted  no_previous  \\\n",
       "count  54.000000  53.000000  54.000000       54.000000    54.000000   \n",
       "mean   15.668519   5.028755   5.506778       13.545407    13.931500   \n",
       "std     4.087386   2.000479   5.157681        4.463259     3.730217   \n",
       "min     5.900000   1.792000   1.593000        1.760000     5.900000   \n",
       "25%    12.725000   3.774000   3.891000       10.345000    11.262000   \n",
       "50%    15.450000   4.608000   4.542000       13.816000    13.717000   \n",
       "75%    18.350000   6.510000   5.622000       16.215000    16.579000   \n",
       "max    23.900000   9.450000  40.642000       23.661000    21.280000   \n",
       "\n",
       "       ins_premium  ins_losses  \n",
       "count    53.000000   54.000000  \n",
       "mean    908.318113  133.967407  \n",
       "std     232.237787   24.703393  \n",
       "min     641.960000   82.750000  \n",
       "25%     768.950000  112.332500  \n",
       "50%     861.180000  135.840000  \n",
       "75%    1011.140000  152.065000  \n",
       "max    2000.030000  194.780000  "
      ]
     },
     "execution_count": 4,
     "metadata": {},
     "output_type": "execute_result"
    }
   ],
   "source": [
    "crash.describe()"
   ]
  },
  {
   "cell_type": "markdown",
   "metadata": {},
   "source": [
    "## Question 1. Check if there are any null or NA"
   ]
  },
  {
   "cell_type": "code",
   "execution_count": 5,
   "metadata": {},
   "outputs": [
    {
     "data": {
      "text/plain": [
       "accidents         False\n",
       "speeding           True\n",
       "alcohol           False\n",
       "not_distracted    False\n",
       "no_previous       False\n",
       "ins_premium        True\n",
       "ins_losses        False\n",
       "state             False\n",
       "region            False\n",
       "division          False\n",
       "dtype: bool"
      ]
     },
     "execution_count": 5,
     "metadata": {},
     "output_type": "execute_result"
    }
   ],
   "source": [
    "crash.isnull().any()"
   ]
  },
  {
   "cell_type": "markdown",
   "metadata": {},
   "source": [
    "## Question 2. Remove any rows that has null or NA"
   ]
  },
  {
   "cell_type": "code",
   "execution_count": 6,
   "metadata": {},
   "outputs": [
    {
     "data": {
      "text/plain": [
       "accidents         False\n",
       "speeding          False\n",
       "alcohol           False\n",
       "not_distracted    False\n",
       "no_previous       False\n",
       "ins_premium       False\n",
       "ins_losses        False\n",
       "state             False\n",
       "region            False\n",
       "division          False\n",
       "dtype: bool"
      ]
     },
     "execution_count": 6,
     "metadata": {},
     "output_type": "execute_result"
    }
   ],
   "source": [
    "crash.dropna(inplace=True)\n",
    "crash.isnull().any()"
   ]
  },
  {
   "cell_type": "markdown",
   "metadata": {},
   "source": [
    "## Question 3. Check if there is any outliers in all numerical fields using both scatter and boxplot"
   ]
  },
  {
   "cell_type": "code",
   "execution_count": 7,
   "metadata": {},
   "outputs": [
    {
     "data": {
      "text/plain": [
       "<AxesSubplot:>"
      ]
     },
     "execution_count": 7,
     "metadata": {},
     "output_type": "execute_result"
    },
    {
     "data": {
      "image/png": "[encoded data removed]",
      "text/plain": [
       "<Figure size 432x288 with 1 Axes>"
      ]
     },
     "metadata": {
      "needs_background": "light"
     },
     "output_type": "display_data"
    }
   ],
   "source": [
    "# print(crash.describe())\n",
    "sns.scatterplot(data=crash)\n",
    "sns.boxplot(data=crash)"
   ]
  },
  {
   "cell_type": "code",
   "execution_count": 8,
   "metadata": {},
   "outputs": [
    {
     "name": "stdout",
     "output_type": "stream",
     "text": [
      "AxesSubplot(0.125,0.125;0.775x0.755)\n"
     ]
    },
    {
     "data": {
      "image/png": "[encoded data removed]",
      "text/plain": [
       "<Figure size 432x288 with 1 Axes>"
      ]
     },
     "metadata": {
      "needs_background": "light"
     },
     "output_type": "display_data"
    }
   ],
   "source": [
    "print(sns.scatterplot(x='ins_premium',y='ins_losses',data=crash))"
   ]
  },
  {
   "cell_type": "code",
   "execution_count": 9,
   "metadata": {},
   "outputs": [
    {
     "name": "stdout",
     "output_type": "stream",
     "text": [
      "AxesSubplot(0.125,0.125;0.775x0.755)\n"
     ]
    },
    {
     "data": {
      "image/png": "[encoded data removed]",
      "text/plain": [
       "<Figure size 432x288 with 1 Axes>"
      ]
     },
     "metadata": {
      "needs_background": "light"
     },
     "output_type": "display_data"
    }
   ],
   "source": [
    "print(sns.scatterplot(x='alcohol',y='accidents',data=crash))"
   ]
  },
  {
   "cell_type": "code",
   "execution_count": 10,
   "metadata": {},
   "outputs": [
    {
     "name": "stdout",
     "output_type": "stream",
     "text": [
      "AxesSubplot(0.125,0.125;0.775x0.755)\n"
     ]
    },
    {
     "data": {
      "image/png": "[encoded data removed]",
      "text/plain": [
       "<Figure size 432x288 with 1 Axes>"
      ]
     },
     "metadata": {
      "needs_background": "light"
     },
     "output_type": "display_data"
    }
   ],
   "source": [
    "print(sns.scatterplot(x='alcohol',y='speeding',data=crash))"
   ]
  },
  {
   "cell_type": "code",
   "execution_count": 11,
   "metadata": {},
   "outputs": [
    {
     "name": "stdout",
     "output_type": "stream",
     "text": [
      "AxesSubplot(0.125,0.125;0.775x0.755)\n"
     ]
    },
    {
     "data": {
      "image/png": "[encoded data removed]",
      "text/plain": [
       "<Figure size 432x288 with 1 Axes>"
      ]
     },
     "metadata": {
      "needs_background": "light"
     },
     "output_type": "display_data"
    }
   ],
   "source": [
    "print(sns.boxplot(x='ins_premium',data=crash))"
   ]
  },
  {
   "cell_type": "code",
   "execution_count": 12,
   "metadata": {},
   "outputs": [
    {
     "name": "stdout",
     "output_type": "stream",
     "text": [
      "AxesSubplot(0.125,0.125;0.775x0.755)\n"
     ]
    },
    {
     "data": {
      "image/png": "[encoded data removed]",
      "text/plain": [
       "<Figure size 432x288 with 1 Axes>"
      ]
     },
     "metadata": {
      "needs_background": "light"
     },
     "output_type": "display_data"
    }
   ],
   "source": [
    "print(sns.boxplot(x='alcohol',data=crash))"
   ]
  },
  {
   "cell_type": "code",
   "execution_count": 13,
   "metadata": {},
   "outputs": [
    {
     "name": "stdout",
     "output_type": "stream",
     "text": [
      "(52, 10)\n",
      "    accidents  speeding  alcohol  not_distracted  no_previous  ins_premium  \\\n",
      "36       10.6     4.452    3.498           8.692        9.116      2000.03   \n",
      "\n",
      "    ins_losses state region division  \n",
      "36      111.62    WA   West  Pacific  \n"
     ]
    }
   ],
   "source": [
    "## Question 4. Display and Remove (the real) outliers\n",
    "\n",
    "print(crash.shape)\n",
    "\n",
    "# find the outliers\n",
    "print(crash[crash.ins_premium>1800])"
   ]
  },
  {
   "cell_type": "code",
   "execution_count": 14,
   "metadata": {},
   "outputs": [
    {
     "name": "stdout",
     "output_type": "stream",
     "text": [
      "    accidents  speeding  alcohol  not_distracted  no_previous  ins_premium  \\\n",
      "40       17.2       7.1   40.642          17.472       16.016       905.99   \n",
      "\n",
      "    ins_losses state     region   division  \n",
      "40      153.86    PR  Territory  Territory  \n"
     ]
    }
   ],
   "source": [
    "# find the outliers\n",
    "print(crash[crash.alcohol>=35])"
   ]
  },
  {
   "cell_type": "code",
   "execution_count": 15,
   "metadata": {},
   "outputs": [
    {
     "name": "stdout",
     "output_type": "stream",
     "text": [
      "(51, 10)\n"
     ]
    }
   ],
   "source": [
    "# Remove (the real) outliers\n",
    "crash = crash[crash.ins_premium<=1800]\n",
    "print(crash.shape)"
   ]
  },
  {
   "cell_type": "code",
   "execution_count": 16,
   "metadata": {},
   "outputs": [
    {
     "name": "stdout",
     "output_type": "stream",
     "text": [
      "(50, 10)\n"
     ]
    }
   ],
   "source": [
    "# Remove (the real) outliers\n",
    "crash=crash[crash.alcohol<40]\n",
    "print(crash.shape)"
   ]
  },
  {
   "cell_type": "markdown",
   "metadata": {},
   "source": [
    "## Question 5. Calculate the average speeding in usa and Northeast region using SQL"
   ]
  },
  {
   "cell_type": "code",
   "execution_count": 17,
   "metadata": {},
   "outputs": [
    {
     "name": "stdout",
     "output_type": "stream",
     "text": [
      "   average_speeding\n",
      "0           4.42475\n"
     ]
    }
   ],
   "source": [
    "sql = \"select avg(speeding) as average_speeding from crash where region ='Northeast'\"\n",
    "print(ps.sqldf(sql))"
   ]
  },
  {
   "cell_type": "markdown",
   "metadata": {},
   "source": [
    "## Question 6. Calculate the average alcohol for each region using SQL"
   ]
  },
  {
   "cell_type": "code",
   "execution_count": 18,
   "metadata": {},
   "outputs": [
    {
     "name": "stdout",
     "output_type": "stream",
     "text": [
      "      region  average_alcohol\n",
      "0    Midwest         4.996917\n",
      "1  Northeast         3.980500\n",
      "2      South         5.414647\n",
      "3       West         4.754077\n"
     ]
    }
   ],
   "source": [
    "sql = \"select region,avg(alcohol) as average_alcohol from crash group by region\"\n",
    "print(ps.sqldf(sql))"
   ]
  },
  {
   "cell_type": "markdown",
   "metadata": {},
   "source": [
    "## Question 7. Calculate the number of occurrences, mean, min, max of the speeding for each divison using SQL"
   ]
  },
  {
   "cell_type": "code",
   "execution_count": 19,
   "metadata": {
    "scrolled": true
   },
   "outputs": [
    {
     "name": "stdout",
     "output_type": "stream",
     "text": [
      "             division  occurrences   avg_spe  min_spe  max_spe\n",
      "0  East North Central            5  4.106600    3.384    4.968\n",
      "1  East South Central            4  4.533250    2.640    7.332\n",
      "2     Middle Atlantic            2  5.446000    1.792    9.100\n",
      "3            Mountain            8  5.812250    3.496    8.346\n",
      "4         New England            6  4.084333    1.886    5.738\n",
      "5             Pacific            5  5.949400    4.200    9.450\n",
      "6      South Atlantic            9  5.030444    2.006    9.082\n",
      "7  West North Central            7  4.293429    1.937    6.923\n",
      "8  West South Central            4  6.333750    4.032    7.760\n"
     ]
    }
   ],
   "source": [
    "# crash.head(10)\n",
    "sql = \"select division,count(*) as occurrences,avg(speeding) as avg_spe,min(speeding) as min_spe,max(speeding) as max_spe from crash group by division\"\n",
    "print(ps.sqldf(sql))"
   ]
  },
  {
   "cell_type": "markdown",
   "metadata": {},
   "source": [
    "## Question 8. Answer Question 7 but use Pandas functions"
   ]
  },
  {
   "cell_type": "code",
   "execution_count": 20,
   "metadata": {},
   "outputs": [
    {
     "data": {
      "text/html": [
       "<div>\n",
       "<style scoped>\n",
       "    .dataframe tbody tr th:only-of-type {\n",
       "        vertical-align: middle;\n",
       "    }\n",
       "\n",
       "    .dataframe tbody tr th {\n",
       "        vertical-align: top;\n",
       "    }\n",
       "\n",
       "    .dataframe thead th {\n",
       "        text-align: right;\n",
       "    }\n",
       "</style>\n",
       "<table border=\"1\" class=\"dataframe\">\n",
       "  <thead>\n",
       "    <tr style=\"text-align: right;\">\n",
       "      <th></th>\n",
       "      <th>count</th>\n",
       "      <th>mean</th>\n",
       "      <th>min</th>\n",
       "      <th>max</th>\n",
       "    </tr>\n",
       "    <tr>\n",
       "      <th>division</th>\n",
       "      <th></th>\n",
       "      <th></th>\n",
       "      <th></th>\n",
       "      <th></th>\n",
       "    </tr>\n",
       "  </thead>\n",
       "  <tbody>\n",
       "    <tr>\n",
       "      <th>East North Central</th>\n",
       "      <td>5</td>\n",
       "      <td>4.106600</td>\n",
       "      <td>3.384</td>\n",
       "      <td>4.968</td>\n",
       "    </tr>\n",
       "    <tr>\n",
       "      <th>East South Central</th>\n",
       "      <td>4</td>\n",
       "      <td>4.533250</td>\n",
       "      <td>2.640</td>\n",
       "      <td>7.332</td>\n",
       "    </tr>\n",
       "    <tr>\n",
       "      <th>Middle Atlantic</th>\n",
       "      <td>2</td>\n",
       "      <td>5.446000</td>\n",
       "      <td>1.792</td>\n",
       "      <td>9.100</td>\n",
       "    </tr>\n",
       "    <tr>\n",
       "      <th>Mountain</th>\n",
       "      <td>8</td>\n",
       "      <td>5.812250</td>\n",
       "      <td>3.496</td>\n",
       "      <td>8.346</td>\n",
       "    </tr>\n",
       "    <tr>\n",
       "      <th>New England</th>\n",
       "      <td>6</td>\n",
       "      <td>4.084333</td>\n",
       "      <td>1.886</td>\n",
       "      <td>5.738</td>\n",
       "    </tr>\n",
       "    <tr>\n",
       "      <th>Pacific</th>\n",
       "      <td>5</td>\n",
       "      <td>5.949400</td>\n",
       "      <td>4.200</td>\n",
       "      <td>9.450</td>\n",
       "    </tr>\n",
       "    <tr>\n",
       "      <th>South Atlantic</th>\n",
       "      <td>9</td>\n",
       "      <td>5.030444</td>\n",
       "      <td>2.006</td>\n",
       "      <td>9.082</td>\n",
       "    </tr>\n",
       "    <tr>\n",
       "      <th>West North Central</th>\n",
       "      <td>7</td>\n",
       "      <td>4.293429</td>\n",
       "      <td>1.937</td>\n",
       "      <td>6.923</td>\n",
       "    </tr>\n",
       "    <tr>\n",
       "      <th>West South Central</th>\n",
       "      <td>4</td>\n",
       "      <td>6.333750</td>\n",
       "      <td>4.032</td>\n",
       "      <td>7.760</td>\n",
       "    </tr>\n",
       "  </tbody>\n",
       "</table>\n",
       "</div>"
      ],
      "text/plain": [
       "                    count      mean    min    max\n",
       "division                                         \n",
       "East North Central      5  4.106600  3.384  4.968\n",
       "East South Central      4  4.533250  2.640  7.332\n",
       "Middle Atlantic         2  5.446000  1.792  9.100\n",
       "Mountain                8  5.812250  3.496  8.346\n",
       "New England             6  4.084333  1.886  5.738\n",
       "Pacific                 5  5.949400  4.200  9.450\n",
       "South Atlantic          9  5.030444  2.006  9.082\n",
       "West North Central      7  4.293429  1.937  6.923\n",
       "West South Central      4  6.333750  4.032  7.760"
      ]
     },
     "execution_count": 20,
     "metadata": {},
     "output_type": "execute_result"
    }
   ],
   "source": [
    "crash.head(10)\n",
    "crash.groupby(['division'])['speeding'].agg(['count','mean','min','max'])"
   ]
  },
  {
   "cell_type": "markdown",
   "metadata": {},
   "source": [
    "## Question 9. Calculate the Standard deviation, Skew and Kurtosis for the accidents, speeding, alcohol for each region"
   ]
  },
  {
   "cell_type": "code",
   "execution_count": 21,
   "metadata": {},
   "outputs": [
    {
     "name": "stdout",
     "output_type": "stream",
     "text": [
      "----------------------------------------accidents----------------------------------------\n",
      "                std      skew  kurtosis\n",
      "region                                 \n",
      "Midwest    3.588988  0.950845  2.067092\n",
      "Northeast  3.077453  0.777587  0.726713\n",
      "South      4.537037 -1.125839  1.860064\n",
      "West       3.325118  0.064819 -1.048692\n",
      "----------------------------------------speeding----------------------------------------\n",
      "                std      skew  kurtosis\n",
      "region                                 \n",
      "Midwest    1.537451  0.121197 -0.737061\n",
      "Northeast  2.327773  1.051666  1.763520\n",
      "South      2.220711  0.172035 -1.327699\n",
      "West       1.803138  0.697441 -0.465455\n",
      "----------------------------------------alcohol----------------------------------------\n",
      "                std      skew  kurtosis\n",
      "region                                 \n",
      "Midwest    1.824432  2.093467  5.597372\n",
      "Northeast  0.872950  0.764250  0.890501\n",
      "South      1.773576  0.330988  2.125568\n",
      "West       1.910356  1.159752  2.219220\n"
     ]
    }
   ],
   "source": [
    "print('-'*40+\"accidents\"+'-'*40)\n",
    "a1=crash.groupby(['region'])['accidents'].agg(['std','skew'])\n",
    "b1=crash.groupby(['region'])['accidents'].apply(pd.DataFrame.kurtosis)\n",
    "c1=pd.merge(a1,b1,left_index=True,right_index=True)\n",
    "print(c1.rename(columns={'accidents':'kurtosis'}))\n",
    "\n",
    "print('-'*40+\"speeding\"+'-'*40)\n",
    "\n",
    "a2=crash.groupby(['region'])['speeding'].agg(['std','skew'])\n",
    "b2=crash.groupby(['region'])['speeding'].apply(pd.DataFrame.kurtosis)\n",
    "c2=pd.merge(a2,b2,left_index=True,right_index=True)\n",
    "print(c2.rename(columns={'speeding':'kurtosis'}))\n",
    "\n",
    "print('-'*40+\"alcohol\"+'-'*40)\n",
    "\n",
    "a3=crash.groupby(['region'])['alcohol'].agg(['std','skew'])\n",
    "b3=crash.groupby(['region'])['alcohol'].apply(pd.DataFrame.kurtosis)\n",
    "c3=pd.merge(a3,b3,left_index=True,right_index=True)\n",
    "print(c3.rename(columns={'alcohol':'kurtosis'}))"
   ]
  },
  {
   "cell_type": "markdown",
   "metadata": {},
   "source": [
    "## Question 10. Plot the histogram of accidents distribution for different region using 5 bins"
   ]
  },
  {
   "cell_type": "code",
   "execution_count": 22,
   "metadata": {},
   "outputs": [
    {
     "data": {
      "image/png": "[encoded data removed]",
      "text/plain": [
       "<Figure size 864x216 with 4 Axes>"
      ]
     },
     "metadata": {
      "needs_background": "light"
     },
     "output_type": "display_data"
    }
   ],
   "source": [
    "# crash.head()\n",
    "# crash['accidents'].hist(by=crash['region'],bins=5)\n",
    "Histogram = sns.FacetGrid(crash, col = 'region')\n",
    "Histogram = Histogram.map(plt.hist, 'accidents', bins = 5)"
   ]
  },
  {
   "cell_type": "code",
   "execution_count": 23,
   "metadata": {},
   "outputs": [
    {
     "data": {
      "text/plain": [
       "<seaborn.axisgrid.FacetGrid at 0x7fef6112f700>"
      ]
     },
     "execution_count": 23,
     "metadata": {},
     "output_type": "execute_result"
    },
    {
     "data": {
      "image/png": "[encoded data removed]",
      "text/plain": [
       "<Figure size 444x360 with 1 Axes>"
      ]
     },
     "metadata": {
      "needs_background": "light"
     },
     "output_type": "display_data"
    },
    {
     "data": {
      "image/png": "[encoded data removed]",
      "text/plain": [
       "<Figure size 444x360 with 1 Axes>"
      ]
     },
     "metadata": {
      "needs_background": "light"
     },
     "output_type": "display_data"
    },
    {
     "data": {
      "image/png": "[encoded data removed]",
      "text/plain": [
       "<Figure size 444x360 with 1 Axes>"
      ]
     },
     "metadata": {
      "needs_background": "light"
     },
     "output_type": "display_data"
    },
    {
     "data": {
      "image/png": "[encoded data removed]",
      "text/plain": [
       "<Figure size 360x360 with 1 Axes>"
      ]
     },
     "metadata": {
      "needs_background": "light"
     },
     "output_type": "display_data"
    },
    {
     "data": {
      "image/png": "[encoded data removed]",
      "text/plain": [
       "<Figure size 444x360 with 1 Axes>"
      ]
     },
     "metadata": {
      "needs_background": "light"
     },
     "output_type": "display_data"
    }
   ],
   "source": [
    "c=crash[['region','accidents']]\n",
    "c1=c[c.region=='Midwest']\n",
    "c2=c[c.region=='Northeast']\n",
    "c3=c[c.region=='South']\n",
    "c4=c[c.region=='Territory']\n",
    "c5=c[c.region=='West']\n",
    "sns.displot(c1,bins=5,kde=True)\n",
    "sns.displot(c2,bins=5,kde=True)\n",
    "sns.displot(c3,bins=5,kde=True)\n",
    "sns.displot(c4,bins=5,kde=True)\n",
    "sns.displot(c5,bins=5,kde=True)\n",
    "# c['region'].values\n"
   ]
  },
  {
   "cell_type": "markdown",
   "metadata": {},
   "source": [
    "## Question 11. How would you describe the accidents distribution for different region based on the Skew and Kurotsis?\n",
    "(i.e. who has positive and negative skew and who has positive and negative Kurotsis)"
   ]
  },
  {
   "cell_type": "code",
   "execution_count": 24,
   "metadata": {},
   "outputs": [
    {
     "name": "stdout",
     "output_type": "stream",
     "text": [
      "For Midwest, accidents distribution has postive skew and postive kurtosis.\n",
      "\n",
      "\n",
      "For Northeast,accidents distribution has postive skew and postive kurtosis.\n",
      "\n",
      "\n",
      "For South,accidents distribution has negative skew and postive kurtosis.\n",
      "\n",
      "\n",
      "For Territory,we cleaned the missing data,and there is no data left,so we can not analyze its distribution.\n",
      "\n",
      "\n",
      "For West,accidents distribution has postive skew and negative kurtosis.\n"
     ]
    }
   ],
   "source": [
    "print(\"For Midwest, accidents distribution has postive skew and postive kurtosis.\" )\n",
    "print(\"\\n\")\n",
    "print(\"For Northeast,accidents distribution has postive skew and postive kurtosis.\" )\n",
    "print(\"\\n\")\n",
    "print(\"For South,accidents distribution has negative skew and postive kurtosis.\" )\n",
    "print(\"\\n\")\n",
    "print(\"For Territory,we cleaned the missing data,and there is no data left,so we can not analyze its distribution.\" )\n",
    "print(\"\\n\")\n",
    "print(\"For West,accidents distribution has postive skew and negative kurtosis.\" )"
   ]
  },
  {
   "cell_type": "markdown",
   "metadata": {},
   "source": [
    "## Question 12. Calculate correlation of all the factors among themselves and determin which factors among speeding, alcohol or ins_premium will affect accidents the most?"
   ]
  },
  {
   "cell_type": "code",
   "execution_count": 25,
   "metadata": {},
   "outputs": [
    {
     "data": {
      "text/html": [
       "<div>\n",
       "<style scoped>\n",
       "    .dataframe tbody tr th:only-of-type {\n",
       "        vertical-align: middle;\n",
       "    }\n",
       "\n",
       "    .dataframe tbody tr th {\n",
       "        vertical-align: top;\n",
       "    }\n",
       "\n",
       "    .dataframe thead th {\n",
       "        text-align: right;\n",
       "    }\n",
       "</style>\n",
       "<table border=\"1\" class=\"dataframe\">\n",
       "  <thead>\n",
       "    <tr style=\"text-align: right;\">\n",
       "      <th></th>\n",
       "      <th>accidents</th>\n",
       "      <th>speeding</th>\n",
       "      <th>alcohol</th>\n",
       "      <th>not_distracted</th>\n",
       "      <th>no_previous</th>\n",
       "      <th>ins_premium</th>\n",
       "      <th>ins_losses</th>\n",
       "    </tr>\n",
       "  </thead>\n",
       "  <tbody>\n",
       "    <tr>\n",
       "      <th>accidents</th>\n",
       "      <td>1.000000</td>\n",
       "      <td>0.608632</td>\n",
       "      <td>0.850706</td>\n",
       "      <td>0.826209</td>\n",
       "      <td>0.956009</td>\n",
       "      <td>-0.174157</td>\n",
       "      <td>-0.025507</td>\n",
       "    </tr>\n",
       "    <tr>\n",
       "      <th>speeding</th>\n",
       "      <td>0.608632</td>\n",
       "      <td>1.000000</td>\n",
       "      <td>0.667377</td>\n",
       "      <td>0.585337</td>\n",
       "      <td>0.568831</td>\n",
       "      <td>-0.059254</td>\n",
       "      <td>-0.059624</td>\n",
       "    </tr>\n",
       "    <tr>\n",
       "      <th>alcohol</th>\n",
       "      <td>0.850706</td>\n",
       "      <td>0.667377</td>\n",
       "      <td>1.000000</td>\n",
       "      <td>0.730435</td>\n",
       "      <td>0.780696</td>\n",
       "      <td>-0.146921</td>\n",
       "      <td>-0.103849</td>\n",
       "    </tr>\n",
       "    <tr>\n",
       "      <th>not_distracted</th>\n",
       "      <td>0.826209</td>\n",
       "      <td>0.585337</td>\n",
       "      <td>0.730435</td>\n",
       "      <td>1.000000</td>\n",
       "      <td>0.745712</td>\n",
       "      <td>-0.157416</td>\n",
       "      <td>-0.068733</td>\n",
       "    </tr>\n",
       "    <tr>\n",
       "      <th>no_previous</th>\n",
       "      <td>0.956009</td>\n",
       "      <td>0.568831</td>\n",
       "      <td>0.780696</td>\n",
       "      <td>0.745712</td>\n",
       "      <td>1.000000</td>\n",
       "      <td>-0.119067</td>\n",
       "      <td>0.007872</td>\n",
       "    </tr>\n",
       "    <tr>\n",
       "      <th>ins_premium</th>\n",
       "      <td>-0.174157</td>\n",
       "      <td>-0.059254</td>\n",
       "      <td>-0.146921</td>\n",
       "      <td>-0.157416</td>\n",
       "      <td>-0.119067</td>\n",
       "      <td>1.000000</td>\n",
       "      <td>0.625381</td>\n",
       "    </tr>\n",
       "    <tr>\n",
       "      <th>ins_losses</th>\n",
       "      <td>-0.025507</td>\n",
       "      <td>-0.059624</td>\n",
       "      <td>-0.103849</td>\n",
       "      <td>-0.068733</td>\n",
       "      <td>0.007872</td>\n",
       "      <td>0.625381</td>\n",
       "      <td>1.000000</td>\n",
       "    </tr>\n",
       "  </tbody>\n",
       "</table>\n",
       "</div>"
      ],
      "text/plain": [
       "                accidents  speeding   alcohol  not_distracted  no_previous  \\\n",
       "accidents        1.000000  0.608632  0.850706        0.826209     0.956009   \n",
       "speeding         0.608632  1.000000  0.667377        0.585337     0.568831   \n",
       "alcohol          0.850706  0.667377  1.000000        0.730435     0.780696   \n",
       "not_distracted   0.826209  0.585337  0.730435        1.000000     0.745712   \n",
       "no_previous      0.956009  0.568831  0.780696        0.745712     1.000000   \n",
       "ins_premium     -0.174157 -0.059254 -0.146921       -0.157416    -0.119067   \n",
       "ins_losses      -0.025507 -0.059624 -0.103849       -0.068733     0.007872   \n",
       "\n",
       "                ins_premium  ins_losses  \n",
       "accidents         -0.174157   -0.025507  \n",
       "speeding          -0.059254   -0.059624  \n",
       "alcohol           -0.146921   -0.103849  \n",
       "not_distracted    -0.157416   -0.068733  \n",
       "no_previous       -0.119067    0.007872  \n",
       "ins_premium        1.000000    0.625381  \n",
       "ins_losses         0.625381    1.000000  "
      ]
     },
     "execution_count": 25,
     "metadata": {},
     "output_type": "execute_result"
    }
   ],
   "source": [
    "crash.corr()"
   ]
  },
  {
   "cell_type": "code",
   "execution_count": 26,
   "metadata": {},
   "outputs": [
    {
     "name": "stdout",
     "output_type": "stream",
     "text": [
      "speeding       0.608632\n",
      "alcohol        0.850706\n",
      "ins_premium   -0.174157\n",
      "Name: accidents, dtype: float64\n",
      "Alcohol has the highest correlation and therefore will affect the accidents the most\n"
     ]
    }
   ],
   "source": [
    "print(crash.corr()['accidents'].loc[['speeding','alcohol','ins_premium']])\n",
    "print(\"Alcohol has the highest correlation and therefore will affect the accidents the most\")"
   ]
  },
  {
   "cell_type": "markdown",
   "metadata": {},
   "source": [
    "### Now Load a different dataset (MPG dataset number 3)"
   ]
  },
  {
   "cell_type": "code",
   "execution_count": 27,
   "metadata": {},
   "outputs": [
    {
     "name": "stdout",
     "output_type": "stream",
     "text": [
      "(405, 9)\n"
     ]
    },
    {
     "data": {
      "text/html": [
       "<div>\n",
       "<style scoped>\n",
       "    .dataframe tbody tr th:only-of-type {\n",
       "        vertical-align: middle;\n",
       "    }\n",
       "\n",
       "    .dataframe tbody tr th {\n",
       "        vertical-align: top;\n",
       "    }\n",
       "\n",
       "    .dataframe thead th {\n",
       "        text-align: right;\n",
       "    }\n",
       "</style>\n",
       "<table border=\"1\" class=\"dataframe\">\n",
       "  <thead>\n",
       "    <tr style=\"text-align: right;\">\n",
       "      <th></th>\n",
       "      <th>mpg</th>\n",
       "      <th>cylinders</th>\n",
       "      <th>displacement</th>\n",
       "      <th>horsepower</th>\n",
       "      <th>weight</th>\n",
       "      <th>acceleration</th>\n",
       "      <th>model_year</th>\n",
       "      <th>origin</th>\n",
       "      <th>name</th>\n",
       "    </tr>\n",
       "  </thead>\n",
       "  <tbody>\n",
       "    <tr>\n",
       "      <th>0</th>\n",
       "      <td>18.0</td>\n",
       "      <td>8</td>\n",
       "      <td>307.0</td>\n",
       "      <td>130.0</td>\n",
       "      <td>3504.0</td>\n",
       "      <td>12.0</td>\n",
       "      <td>70</td>\n",
       "      <td>usa</td>\n",
       "      <td>chevrolet chevelle malibu</td>\n",
       "    </tr>\n",
       "    <tr>\n",
       "      <th>1</th>\n",
       "      <td>15.0</td>\n",
       "      <td>8</td>\n",
       "      <td>350.0</td>\n",
       "      <td>165.0</td>\n",
       "      <td>3693.0</td>\n",
       "      <td>11.5</td>\n",
       "      <td>70</td>\n",
       "      <td>usa</td>\n",
       "      <td>buick skylark 320</td>\n",
       "    </tr>\n",
       "    <tr>\n",
       "      <th>2</th>\n",
       "      <td>18.0</td>\n",
       "      <td>8</td>\n",
       "      <td>318.0</td>\n",
       "      <td>150.0</td>\n",
       "      <td>3436.0</td>\n",
       "      <td>11.0</td>\n",
       "      <td>70</td>\n",
       "      <td>usa</td>\n",
       "      <td>plymouth satellite</td>\n",
       "    </tr>\n",
       "    <tr>\n",
       "      <th>3</th>\n",
       "      <td>16.0</td>\n",
       "      <td>8</td>\n",
       "      <td>304.0</td>\n",
       "      <td>150.0</td>\n",
       "      <td>3433.0</td>\n",
       "      <td>12.0</td>\n",
       "      <td>70</td>\n",
       "      <td>usa</td>\n",
       "      <td>amc rebel sst</td>\n",
       "    </tr>\n",
       "    <tr>\n",
       "      <th>4</th>\n",
       "      <td>17.0</td>\n",
       "      <td>8</td>\n",
       "      <td>302.0</td>\n",
       "      <td>140.0</td>\n",
       "      <td>3449.0</td>\n",
       "      <td>10.5</td>\n",
       "      <td>70</td>\n",
       "      <td>usa</td>\n",
       "      <td>ford torino</td>\n",
       "    </tr>\n",
       "  </tbody>\n",
       "</table>\n",
       "</div>"
      ],
      "text/plain": [
       "    mpg  cylinders  displacement  horsepower  weight  acceleration  \\\n",
       "0  18.0          8         307.0       130.0  3504.0          12.0   \n",
       "1  15.0          8         350.0       165.0  3693.0          11.5   \n",
       "2  18.0          8         318.0       150.0  3436.0          11.0   \n",
       "3  16.0          8         304.0       150.0  3433.0          12.0   \n",
       "4  17.0          8         302.0       140.0  3449.0          10.5   \n",
       "\n",
       "   model_year origin                       name  \n",
       "0          70    usa  chevrolet chevelle malibu  \n",
       "1          70    usa          buick skylark 320  \n",
       "2          70    usa         plymouth satellite  \n",
       "3          70    usa              amc rebel sst  \n",
       "4          70    usa                ford torino  "
      ]
     },
     "execution_count": 27,
     "metadata": {},
     "output_type": "execute_result"
    }
   ],
   "source": [
    "mpg = pd.read_csv(\"mpg3.csv\")\n",
    "print(mpg.shape)\n",
    "mpg.head()"
   ]
  },
  {
   "cell_type": "markdown",
   "metadata": {},
   "source": [
    "# Question 13: Check to see if there are any missing values. Fix the missing values by imputing value from the mean."
   ]
  },
  {
   "cell_type": "markdown",
   "metadata": {},
   "source": [
    "### Type your code to fix the missing values by imputing value from the mean"
   ]
  },
  {
   "cell_type": "code",
   "execution_count": 28,
   "metadata": {},
   "outputs": [
    {
     "name": "stdout",
     "output_type": "stream",
     "text": [
      "mpg              True\n",
      "cylinders       False\n",
      "displacement    False\n",
      "horsepower       True\n",
      "weight           True\n",
      "acceleration    False\n",
      "model_year      False\n",
      "origin          False\n",
      "name            False\n",
      "dtype: bool\n",
      "\n",
      "\n",
      "Yes, there are missing values in mpg, horsepower and weight\n"
     ]
    }
   ],
   "source": [
    "print(mpg.isnull().any())\n",
    "print(\"\\n\")\n",
    "print(\"Yes, there are missing values in mpg, horsepower and weight\")"
   ]
  },
  {
   "cell_type": "code",
   "execution_count": 29,
   "metadata": {},
   "outputs": [
    {
     "name": "stdout",
     "output_type": "stream",
     "text": [
      "mpg             False\n",
      "cylinders       False\n",
      "displacement    False\n",
      "horsepower      False\n",
      "weight          False\n",
      "acceleration    False\n",
      "model_year      False\n",
      "origin          False\n",
      "name            False\n",
      "dtype: bool\n",
      "(405, 9)\n"
     ]
    }
   ],
   "source": [
    "mpg['mpg'] = mpg['mpg'].fillna(mpg['mpg'].mean())\n",
    "mpg['horsepower'] = mpg['horsepower'].fillna(mpg['horsepower'].mean())\n",
    "mpg['weight'] = mpg['weight'].fillna(mpg['weight'].mean())\n",
    "print(mpg.isnull().any())\n",
    "print(mpg.shape)"
   ]
  },
  {
   "cell_type": "code",
   "execution_count": null,
   "metadata": {},
   "outputs": [],
   "source": []
  }
 ],
 "metadata": {
  "kernelspec": {
   "display_name": "Python 3",
   "language": "python",
   "name": "python3"
  },
  "language_info": {
   "codemirror_mode": {
    "name": "ipython",
    "version": 3
   },
   "file_extension": ".py",
   "mimetype": "text/x-python",
   "name": "python",
   "nbconvert_exporter": "python",
   "pygments_lexer": "ipython3",
   "version": "3.8.5"
  }
 },
 "nbformat": 4,
 "nbformat_minor": 2
}
